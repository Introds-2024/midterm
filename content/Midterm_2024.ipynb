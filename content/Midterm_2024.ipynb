{
 "cells": [
  {
   "cell_type": "markdown",
   "metadata": {},
   "source": [
    "# 데이터사이언스의 기초: 중간고사"
   ]
  },
  {
   "cell_type": "markdown",
   "metadata": {
    "vscode": {
     "languageId": "plaintext"
    }
   },
   "source": [
    "---\n",
    "1. 시험 시간은 **11:00 ~ 12:20 (80분)** 입니다.\n",
    "2. ETL에 기 공지된 답안제출시간 **(11:30 - 12:30)** 외 제출된 답안은 채점하지 않습니다.\n",
    "3. 부정행위 등의 방지를 위해, **답안 제출 횟수는 1회**로 제한되오니, 최종 제출 전에 반드시 확인하시기 바랍니다.\n",
    "4. 문제에 주어진 데이터를 변경하거나, 답안으로 제출해야 할 변수명을 임의로 변경할 경우 오답처리됩니다.\n",
    "5. 모든 코드와 실행 결과 등은 **시험이 실시된 Jupyterlite 환경**을 기준으로 합니다.\n",
    "6. 시각화는 한글폰트 설정 없이, **영문**으로 진행해도 무방합니다.\n",
    "7. **브라우저 캐시**가 저장될 수 있도록, 반드시 시크릿 모드가 아닌 **일반 모드**로 시험을 시작하시기 바랍니다.\n",
    "8. 코드 셀은 추가로 작성하셔도 좋습니다.\n",
    "---"
   ]
  },
  {
   "cell_type": "code",
   "execution_count": null,
   "metadata": {},
   "outputs": [],
   "source": [
    "## 이 셀의 코드는 수정하지 마세요 ##\n",
    "\n",
    "import pandas as pd\n",
    "import numpy as np\n",
    "import matplotlib.pyplot as plt\n",
    "\n",
    "import pyodide_http\n",
    "pyodide_http.patch_all()\n",
    "\n",
    "# Load the data\n",
    "gym = pd.read_csv('https://raw.githubusercontent.com/ddangchani/DataScience23fall_data/main/data/megaGymDataset.csv', index_col=0) # Q1\n",
    "spotify = pd.read_csv('https://raw.githubusercontent.com/ddangchani/DataScience23fall_data/main/data/spotify-2023.csv') # Q2\n",
    "drivers = pd.read_csv('https://raw.githubusercontent.com/ddangchani/DataScience23fall_data/main/data/f1/drivers.csv') # Q3\n",
    "lap_times = pd.read_csv('https://raw.githubusercontent.com/ddangchani/DataScience23fall_data/main/data/f1/lap_times.csv') # Q3\n",
    "pit_stops = pd.read_csv('https://raw.githubusercontent.com/ddangchani/DataScience23fall_data/main/data/f1/pit_stops.csv') # Q3\n",
    "coffee_import = pd.read_csv('https://raw.githubusercontent.com/ddangchani/DataScience23fall_data/main/data/coffee/imports.csv') # Q4\n",
    "coffee_reexport = pd.read_csv('https://raw.githubusercontent.com/ddangchani/DataScience23fall_data/main/data/coffee/re-exports.csv') # Q4\n",
    "coffee_price = pd.read_csv('https://raw.githubusercontent.com/ddangchani/DataScience23fall_data/main/data/coffee_price.csv') # Q4"
   ]
  },
  {
   "cell_type": "markdown",
   "metadata": {},
   "source": [
    "# 문제 1 (총 20점)\n",
    "\n",
    "`gym` 데이터셋은 여러 운동 종목들에 대한 정보를 담고 있습니다. 주요 컬럼은 다음과 같습니다.\n",
    "- `Title` : 운동 종목명\n",
    "- `Desc` : 운동에 대한 설명\n",
    "- `Type` : 운동 종목의 유형 (`Strength`, `Cardio`, ...)\n",
    "- `BodyPart` : 주로 사용되는 부위 (`Chest`, `Biceps`, ...)\n",
    "- `Equipment` : 필요한 운동기구 (`Bands`, `Barbell`, ...)\n",
    "- `Level` : 운동의 난이도 (`Beginner`, `Intermediate`, `Expert` 순으로 높아짐)\n",
    "- `Rating` : 운동에 대한 사용자 평가 (0 ~ 10)\n",
    "\n",
    "`gym` 데이터셋을 활용하여 아래의 문제를 해결하세요."
   ]
  },
  {
   "cell_type": "markdown",
   "metadata": {},
   "source": [
    "## 문제 1-1. (5점)\n",
    "운동의 난이도(`Level`) 컬럼의 값을 수치형으로 변환하여, 이를 `gym` 데이터셋의 `Level_num` 컬럼으로 생성하세요. <br>\n",
    "(`Beginner` -> 1, `Intermediate` -> 2, `Expert` -> 3 으로 변환)"
   ]
  },
  {
   "cell_type": "code",
   "execution_count": null,
   "metadata": {},
   "outputs": [],
   "source": []
  },
  {
   "cell_type": "markdown",
   "metadata": {},
   "source": [
    "## 문제 1-2. (5점)\n",
    "운동 부위(`BodyPart`) 별로 사용자 평가(`Rating`)의 평균을 구하고, 가장 높은 평가를 갖는 부위와 평균값을 출력하세요. <br>\n",
    "(**단, `Ratings`의 결측값은 5.0으로 대체하고, 결과는 소수점 둘째자리에서 반올림하여 출력할 것**)"
   ]
  },
  {
   "cell_type": "code",
   "execution_count": null,
   "metadata": {},
   "outputs": [],
   "source": []
  },
  {
   "cell_type": "markdown",
   "metadata": {},
   "source": [
    "## 문제 1-3. (10점)\n",
    "운동명(`Title`)에 `'bench press'` (**대소문자 구분 없음**)가 포함된 운동들에 대해, 운동 기구(`Equipment`)별로 난이도(`Level_num`)의 평균을 구하여 이를 막대그래프로 시각화하세요. <br>\n",
    "(**단, 결과는 평균 난이도의 내림차순으로 정렬하여 출력할 것**)"
   ]
  },
  {
   "cell_type": "code",
   "execution_count": null,
   "metadata": {},
   "outputs": [],
   "source": []
  },
  {
   "cell_type": "markdown",
   "metadata": {},
   "source": [
    "# 문제 2 (총 25점)\n",
    "\n",
    "`spotify` 데이터셋은 2023년 spotify에서 가장 많이 재생된 곡들에 대한 정보를 담고 있습니다. 주요 컬럼은 다음과 같습니다.\n",
    "\n",
    "- `track_name`: 곡의 이름\n",
    "- `artist(s)_name`: 아티스트 이름\n",
    "- `artist_count`: 곡에 참여한 아티스트 수\n",
    "- `released_year`: 곡이 발매된 연도\n",
    "- `released_month`: 곡이 발매된 월\n",
    "- `released_day`: 곡이 발매된 일\n",
    "- `bpm`: 곡의 BPM (Beats per minute)\n",
    "- `key`: 곡의 음계\n",
    "- `mode`: 곡의 음조 (major or minor)\n",
    "- `streams`: Spotify에서의 총 스트리밍 횟수\n",
    "\n",
    "`spotify` 데이터셋을 활용하여 아래의 문제를 해결하세요."
   ]
  },
  {
   "cell_type": "markdown",
   "metadata": {},
   "source": [
    "## 문제 2-1. (5점)\n",
    "`released_year`, `released_month`, `released_day` 컬럼을 활용하여, 데이터 타입이 `datetime64`인 `released_date` 컬럼을 생성하세요.\n",
    "(단, `format`은 상관없음)"
   ]
  },
  {
   "cell_type": "code",
   "execution_count": null,
   "metadata": {},
   "outputs": [],
   "source": []
  },
  {
   "cell_type": "markdown",
   "metadata": {},
   "source": [
    "## 문제 2-2. (10점)\n",
    "다음 설명에 맞게 함수 `get_main_artist`를 작성하고, 이를 활용하여 `spotify` 데이터셋에 대해 다음을 수행하세요.\n",
    "- `artist(s)_name` 컬럼에는 곡에 참여한 여러 아티스트가 포함되어 있습니다. \n",
    "- 함수 `get_main_artist`는 `artist(s)_name` 컬럼의 값을 입력받아, 가장 먼저 나오는 아티스트명과 나머지 인원수를 `아티스트명 with 나머지 인원수 more` 형태로 반환합니다.\n",
    "- 예를 들어, `get_main_artist('Ariana Grande, Justin Bieber, The Weeknd')`의 결과는 `'Ariana Grande with 2 more'`가 되어야 합니다.\n",
    "- 솔로 아티스트의 경우, `get_main_artist('Ariana Grande')`의 결과는 `'Ariana Grande'`가 되어야 합니다.\n",
    "- `spotify` 데이터셋에 대해 `get_main_artist` 함수를 적용한 결과를 `main_artist` 컬럼으로 생성하세요."
   ]
  },
  {
   "cell_type": "code",
   "execution_count": null,
   "metadata": {},
   "outputs": [],
   "source": [
    "def get_main_artist():\n",
    "    # Write your code here\n",
    "    ...\n"
   ]
  },
  {
   "cell_type": "markdown",
   "metadata": {},
   "source": [
    "## 문제 2-3. (5점)\n",
    "`bpm` 컬럼은 곡의 BPM을 나타내는데, 이를 기준으로 다음과 같이 범주형 변수 `bpm_category`를 생성하세요.\n",
    "- `bpm`가 100 이하인 경우, `bpm_category`는 `very slow`\n",
    "- `bpm`가 101 이상 120 이하인 경우, `bpm_category`는 `slow`\n",
    "- `bpm`가 121 이상 140 이하인 경우, `bpm_category`는 `moderate`\n",
    "- `bpm`가 141 이상 160 이하인 경우, `bpm_category`는 `fast`\n",
    "- `bpm`가 161 이상인 경우, `bpm_category`는 `very fast`"
   ]
  },
  {
   "cell_type": "code",
   "execution_count": null,
   "metadata": {},
   "outputs": [],
   "source": []
  },
  {
   "cell_type": "markdown",
   "metadata": {},
   "source": [
    "## 문제 2-4. (5점)\n",
    "`bpm_category` 별로 `streams`의 평균을 구하고, 가장 많은 스트리밍 횟수를 기록한 범주와 평균값을 출력하세요. <br>\n",
    "(**단, 결과는 소수점 둘째자리에서 반올림하여 출력할 것**)"
   ]
  },
  {
   "cell_type": "code",
   "execution_count": null,
   "metadata": {},
   "outputs": [],
   "source": []
  },
  {
   "cell_type": "markdown",
   "metadata": {},
   "source": [
    "# 문제 3 (총 40점)\n",
    "F1 레이스는 주어진 서킷에서 여러 팀과 드라이버들이 참가하여 경쟁하는 자동차 경주 대회입니다. \n",
    "\n",
    "데이터셋 `circuits`, `drivers`, `constructors`, `lap_times`, `races`, `results`는 모두 F1 자동차 경주 데이터셋이며, 각 데이터셋은 다음과 같은 정보를 담고 있습니다.\n",
    "\n",
    "- `circuits` : F1 레이스 트랙에 대한 정보\n",
    "- `drivers` : F1 레이스에 참여한 드라이버 정보\n",
    "- `constructors` : F1 레이스에 참여한 팀(constructor) 정보\n",
    "- `lap_times` : F1 레이스 참가자들의 랩별 주행 시간\n",
    "- `races` : F1 레이스에 대한 정보\n",
    "\n",
    "`F1` 데이터셋을 활용하여 아래의 문제를 해결하세요."
   ]
  },
  {
   "cell_type": "markdown",
   "metadata": {},
   "source": [
    "## 문제 3-1. (5점)\n",
    "\n",
    "F1 레이스에서 서킷을 한 바퀴 도는 것을 랩이라고 하며, 랩마다 주행 시간이 기록됩니다. \n",
    "\n",
    "랩마다의 주행 시간은 **'분:초.밀리초'** 단위로 기록되며, 이는 `lap_times` 데이터셋의 `time` 컬럼에 기록되어 있습니다.\n",
    "\n",
    "`lap_times` 데이터셋의 `driverId` 컬럼은 각 기록의 드라이버 정보를 나타냅니다. 또한, 각 `driverId`는 모든 데이터셋의 `driverId` 컬럼과 매칭됩니다. \n",
    "\n",
    "`drivers` 데이터셋의 `forename`, `surname` 컬럼을 활용하여, `lap_times` 데이터셋에 각 기록의 드라이버 이름을 나타내는 `driver_name` 컬럼을 생성하세요.\n",
    "- 예를 들어, `driverId`가 1인 레코드의 `driver_name`은 'Lewis Hamilton'이 되어야 합니다."
   ]
  },
  {
   "cell_type": "code",
   "execution_count": null,
   "metadata": {},
   "outputs": [],
   "source": []
  },
  {
   "cell_type": "markdown",
   "metadata": {},
   "source": [
    "## 문제 3-2. (15점)\n",
    "\n",
    "문제 3-1의 결과를 이용해 다음 조건을 만족하는 함수 `get_best_record()`를 작성하세요.\n",
    "- `get_best_record()`는 문자형 변수 `name`을 입력 받아, 해당 드라이버의 가장 빠른 랩 타임(`lap_times` 데이터셋의 `time` 컬럼)을 문자형으로 반환합니다.\n",
    "- 가장 빠른 랩 타임이란, `lap_times` 데이터셋에서 해당 드라이버가 기록한 랩 타임 중 가장 짧은 시간을 의미합니다.\n",
    "- `name`은 `'forename surname'` 형태로 주어지며, 대소문자 구분이 없습니다.\n",
    "- `get_best_record('lewis hamilton')`의 결과는 Lewis Hamilton의 가장 빠른 랩 타임이 되어야 합니다.\n",
    "- 이름이 잘못 입력된 경우, 'Not Found'를 출력하고 `None`을 반환합니다.\n",
    "\n",
    "```python\n",
    "# 예시 출력\n",
    "get_best_record('lewis hamilton')\n",
    "\n",
    "'1:07.058'\n",
    "\n",
    "get_best_record('Some Random Guy')\n",
    "\n",
    "'Not Found'\n",
    "```"
   ]
  },
  {
   "cell_type": "code",
   "execution_count": null,
   "metadata": {},
   "outputs": [],
   "source": [
    "def get_best_record(name):\n",
    "    # Write your code here\n",
    "    ..."
   ]
  },
  {
   "cell_type": "markdown",
   "metadata": {},
   "source": [
    "## 문제 3-3. (20점)\n",
    "- F1 레이스에서는 경기 도중 피트 스탑(pit stop)을 통해 타이어 교체, 연료 보충 등의 작업을 진행합니다. 빠른 속도로 피트 스탑을 진행하는 것은 경기 결과에 큰 영향을 미칠 수 있습니다. \n",
    "- 한 레이스에서 한 드라이버가 여러번의 피트 스탑을 진행할 수 있습니다.\n",
    "- 피트스탑 데이터는 `pit_stops` 데이터셋에 포함되어 있으며, 몇 번째 피트스탑인지(`stop`), 몇 번째 랩에서 피트스탑을 진행했는지(`lap`), 피트스탑 소요 시간(초)(`duration`) 및 밀리초 단위 소요 시간(`milliseconds`) 등의 정보를 담고 있습니다.\n",
    "- 경기의 **전체 주행 시간**은, 각 `driverId`에 대해 모든 랩타임(`lap_times` 데이터셋의 `time` 컬럼)과 모든 피트스탑 소요 시간(`duration` 혹은 `milliseconds`)을 합산한 값입니다.\n",
    "- 경기의 순위는 **전체 주행 시간이 짧은 순**으로 결정됩니다.\n",
    "\n",
    "`raceId`가 `1051`부터 `1060`까지인 경기들에 대해, 1위 선수의 전체 주행 시간과 2위 선수의 전체 주행 시간의 차이가 가장 큰 경기의 `raceId`를 찾고, 해당 경기의 `raceId`와 차이를 모두 출력하세요.\n",
    "\n",
    "(단위는 초 단위이며, 출력은 실수 자료형으로 반올림하여 소수점 **셋째자리**까지 나타내세요.)"
   ]
  },
  {
   "cell_type": "code",
   "execution_count": null,
   "metadata": {},
   "outputs": [],
   "source": []
  },
  {
   "cell_type": "markdown",
   "metadata": {},
   "source": [
    "# 문제 4 (총 15점)\n",
    "- `coffee_import` 데이터셋은 세계 각국의 커피 수입량에 대한 정보를 담고 있습니다. 첫 컬럼(`imports`)은 국가 명을, 두번째 컬럼부터는 연도별 수입량을 나타냅니다.\n",
    "- `coffee_reexport` 데이터셋은 세계 각국의 커피 재수출량에 대한 정보를 담고 있습니다. 첫 컬럼(`re-exports`)은 국가 명을, 두번째 컬럼부터는 연도별 재수출량을 나타냅니다.\n",
    "- 수입량과 재수출량은 킬로그램(kg) 단위로 기록되어 있습니다."
   ]
  },
  {
   "cell_type": "markdown",
   "metadata": {},
   "source": [
    "## 문제 4-1. (5점)\n",
    "두 데이터셋을 활용하여, 대한민국(`'Korea, Rep. of'`)의 커피 수입량과 재수출량을 연도별로 비교하는 라인플롯을 그리세요. <br>\n",
    "(**단, x축은 연도, y축은 수입량과 재수출량을 나타내도록 그리세요**)"
   ]
  },
  {
   "cell_type": "code",
   "execution_count": null,
   "metadata": {},
   "outputs": [],
   "source": []
  },
  {
   "cell_type": "markdown",
   "metadata": {},
   "source": [
    "## 문제 4-2. (10점)\n",
    "`coffee_price` 데이터셋은 미국 커피 선물 가격(달러화)에 대한 일별 정보를 담고 있습니다. `종가`를 기준으로 **kg당 연평균 커피 가격**을 산출하고, 한국과 일본(`'Japan'`)의 커피 수입액을 달러화로 계산하여 연도별로 비교하는 라인플롯을 그리세요. <br>\n",
    "- 커피 선물 가격은 **17,000kg 단위**의 가격을 기준으로 합니다.\n",
    "- 커피 수입액과 재수출액은 각각 수입량과 재수출량을 커피 선물 가격으로 곱하여 계산합니다.\n",
    "- x축은 연도, y축은 수입액을 나타내도록 그리세요."
   ]
  },
  {
   "cell_type": "code",
   "execution_count": null,
   "metadata": {},
   "outputs": [],
   "source": []
  }
 ],
 "metadata": {
  "kernelspec": {
   "display_name": "colab",
   "language": "python",
   "name": "python3"
  },
  "language_info": {
   "codemirror_mode": {
    "name": "ipython",
    "version": 3
   },
   "file_extension": ".py",
   "mimetype": "text/x-python",
   "name": "python",
   "nbconvert_exporter": "python",
   "pygments_lexer": "ipython3",
   "version": "3.10.12"
  }
 },
 "nbformat": 4,
 "nbformat_minor": 2
}
